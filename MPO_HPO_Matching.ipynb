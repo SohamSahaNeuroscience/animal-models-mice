{
 "cells": [
  {
   "attachments": {},
   "cell_type": "markdown",
   "metadata": {},
   "source": [
    "## Utils"
   ]
  },
  {
   "cell_type": "code",
   "execution_count": 1,
   "metadata": {},
   "outputs": [
    {
     "name": "stderr",
     "output_type": "stream",
     "text": [
      "c:\\Users\\victo\\anaconda3\\envs\\venv_sandbox\\lib\\site-packages\\fuzzywuzzy\\fuzz.py:11: UserWarning: Using slow pure-python SequenceMatcher. Install python-Levenshtein to remove this warning\n",
      "  warnings.warn('Using slow pure-python SequenceMatcher. Install python-Levenshtein to remove this warning')\n"
     ]
    }
   ],
   "source": [
    "import pandas as pd\n",
    "import re\n",
    "from tqdm import tqdm\n",
    "tqdm.pandas()\n",
    "import re\n",
    "import json\n",
    "from fuzzywuzzy import fuzz\n",
    "from fuzzywuzzy import process\n",
    "import jellyfish"
   ]
  },
  {
   "cell_type": "code",
   "execution_count": 2,
   "metadata": {},
   "outputs": [],
   "source": [
    "from joblib import Parallel, delayed\n",
    "\n",
    "def parallel_apply(series, func, n_jobs=-1):\n",
    "    results = Parallel(n_jobs=n_jobs)(delayed(func)(x) for x in tqdm(series, desc=\"Processing\", total=len(series)))\n",
    "    return pd.Series(results)"
   ]
  },
  {
   "attachments": {},
   "cell_type": "markdown",
   "metadata": {},
   "source": [
    "## Extract data"
   ]
  },
  {
   "cell_type": "code",
   "execution_count": 4,
   "metadata": {},
   "outputs": [],
   "source": [
    "def clean_name(name):\n",
    "    name = name.lower()\n",
    "    name = re.sub(r'\\/', ' ', name)\n",
    "    return name"
   ]
  },
  {
   "cell_type": "code",
   "execution_count": 5,
   "metadata": {},
   "outputs": [],
   "source": [
    "# Check obsolet\n",
    "def check_obsolete(x):\n",
    "    if x.find('obsolete') != -1:\n",
    "        return True\n",
    "    else:\n",
    "        return False"
   ]
  },
  {
   "attachments": {},
   "cell_type": "markdown",
   "metadata": {},
   "source": [
    "### MPO\n",
    "\n",
    "https://www.informatics.jax.org/downloads/reports/VOC_MammalianPhenotype.rpt\n",
    "\n",
    "To rename in mpo_info.txt and put in a folder \"data\""
   ]
  },
  {
   "cell_type": "code",
   "execution_count": 6,
   "metadata": {},
   "outputs": [
    {
     "name": "stdout",
     "output_type": "stream",
     "text": [
      "14155\n"
     ]
    },
    {
     "data": {
      "text/html": [
       "<div>\n",
       "<style scoped>\n",
       "    .dataframe tbody tr th:only-of-type {\n",
       "        vertical-align: middle;\n",
       "    }\n",
       "\n",
       "    .dataframe tbody tr th {\n",
       "        vertical-align: top;\n",
       "    }\n",
       "\n",
       "    .dataframe thead th {\n",
       "        text-align: right;\n",
       "    }\n",
       "</style>\n",
       "<table border=\"1\" class=\"dataframe\">\n",
       "  <thead>\n",
       "    <tr style=\"text-align: right;\">\n",
       "      <th></th>\n",
       "      <th>MPO_ID</th>\n",
       "      <th>MPO_Name</th>\n",
       "      <th>MPO_Definition</th>\n",
       "    </tr>\n",
       "  </thead>\n",
       "  <tbody>\n",
       "    <tr>\n",
       "      <th>0</th>\n",
       "      <td>MP:0000001</td>\n",
       "      <td>mammalian phenotype</td>\n",
       "      <td>the observable morphological, physiological, b...</td>\n",
       "    </tr>\n",
       "    <tr>\n",
       "      <th>1</th>\n",
       "      <td>MP:0000002</td>\n",
       "      <td>obsolete Morphology</td>\n",
       "      <td>OBSOLETE.</td>\n",
       "    </tr>\n",
       "    <tr>\n",
       "      <th>2</th>\n",
       "      <td>MP:0000003</td>\n",
       "      <td>abnormal adipose tissue morphology</td>\n",
       "      <td>any structural anomaly of the connective tissu...</td>\n",
       "    </tr>\n",
       "    <tr>\n",
       "      <th>3</th>\n",
       "      <td>MP:0000005</td>\n",
       "      <td>increased brown adipose tissue amount</td>\n",
       "      <td>increased amount of the thermogenic form of ad...</td>\n",
       "    </tr>\n",
       "    <tr>\n",
       "      <th>4</th>\n",
       "      <td>MP:0000008</td>\n",
       "      <td>increased white adipose tissue amount</td>\n",
       "      <td>increased quantity of fat-storing cells/tissue</td>\n",
       "    </tr>\n",
       "  </tbody>\n",
       "</table>\n",
       "</div>"
      ],
      "text/plain": [
       "       MPO_ID                               MPO_Name  \\\n",
       "0  MP:0000001                    mammalian phenotype   \n",
       "1  MP:0000002                    obsolete Morphology   \n",
       "2  MP:0000003     abnormal adipose tissue morphology   \n",
       "3  MP:0000005  increased brown adipose tissue amount   \n",
       "4  MP:0000008  increased white adipose tissue amount   \n",
       "\n",
       "                                      MPO_Definition  \n",
       "0  the observable morphological, physiological, b...  \n",
       "1                                          OBSOLETE.  \n",
       "2  any structural anomaly of the connective tissu...  \n",
       "3  increased amount of the thermogenic form of ad...  \n",
       "4     increased quantity of fat-storing cells/tissue  "
      ]
     },
     "execution_count": 6,
     "metadata": {},
     "output_type": "execute_result"
    }
   ],
   "source": [
    "# Read in the MPO data\n",
    "mpo_df = pd.read_table('data/mpo_info.txt', header=None)\n",
    "mpo_df.columns = ['MPO_ID', 'MPO_Name', 'MPO_Definition']\n",
    "print(len(mpo_df))\n",
    "mpo_df.head()"
   ]
  },
  {
   "cell_type": "code",
   "execution_count": 7,
   "metadata": {},
   "outputs": [
    {
     "name": "stdout",
     "output_type": "stream",
     "text": [
      "13708\n"
     ]
    },
    {
     "data": {
      "text/html": [
       "<div>\n",
       "<style scoped>\n",
       "    .dataframe tbody tr th:only-of-type {\n",
       "        vertical-align: middle;\n",
       "    }\n",
       "\n",
       "    .dataframe tbody tr th {\n",
       "        vertical-align: top;\n",
       "    }\n",
       "\n",
       "    .dataframe thead th {\n",
       "        text-align: right;\n",
       "    }\n",
       "</style>\n",
       "<table border=\"1\" class=\"dataframe\">\n",
       "  <thead>\n",
       "    <tr style=\"text-align: right;\">\n",
       "      <th></th>\n",
       "      <th>MPO_ID</th>\n",
       "      <th>MPO_Name</th>\n",
       "      <th>MPO_Definition</th>\n",
       "    </tr>\n",
       "  </thead>\n",
       "  <tbody>\n",
       "    <tr>\n",
       "      <th>0</th>\n",
       "      <td>MP:0000001</td>\n",
       "      <td>mammalian phenotype</td>\n",
       "      <td>the observable morphological, physiological, b...</td>\n",
       "    </tr>\n",
       "    <tr>\n",
       "      <th>1</th>\n",
       "      <td>MP:0000003</td>\n",
       "      <td>abnormal adipose tissue morphology</td>\n",
       "      <td>any structural anomaly of the connective tissu...</td>\n",
       "    </tr>\n",
       "    <tr>\n",
       "      <th>2</th>\n",
       "      <td>MP:0000005</td>\n",
       "      <td>increased brown adipose tissue amount</td>\n",
       "      <td>increased amount of the thermogenic form of ad...</td>\n",
       "    </tr>\n",
       "    <tr>\n",
       "      <th>3</th>\n",
       "      <td>MP:0000008</td>\n",
       "      <td>increased white adipose tissue amount</td>\n",
       "      <td>increased quantity of fat-storing cells/tissue</td>\n",
       "    </tr>\n",
       "    <tr>\n",
       "      <th>4</th>\n",
       "      <td>MP:0000010</td>\n",
       "      <td>abnormal abdominal fat pad morphology</td>\n",
       "      <td>any structural anomaly of the encapsulated adi...</td>\n",
       "    </tr>\n",
       "  </tbody>\n",
       "</table>\n",
       "</div>"
      ],
      "text/plain": [
       "       MPO_ID                               MPO_Name  \\\n",
       "0  MP:0000001                    mammalian phenotype   \n",
       "1  MP:0000003     abnormal adipose tissue morphology   \n",
       "2  MP:0000005  increased brown adipose tissue amount   \n",
       "3  MP:0000008  increased white adipose tissue amount   \n",
       "4  MP:0000010  abnormal abdominal fat pad morphology   \n",
       "\n",
       "                                      MPO_Definition  \n",
       "0  the observable morphological, physiological, b...  \n",
       "1  any structural anomaly of the connective tissu...  \n",
       "2  increased amount of the thermogenic form of ad...  \n",
       "3     increased quantity of fat-storing cells/tissue  \n",
       "4  any structural anomaly of the encapsulated adi...  "
      ]
     },
     "execution_count": 7,
     "metadata": {},
     "output_type": "execute_result"
    }
   ],
   "source": [
    "# Transform \"/\" in \" \" for the name\n",
    "mpo_df['MPO_Name'] = mpo_df['MPO_Name'].apply(lambda x: clean_name(x))\n",
    "\n",
    "# Remove obsolete\n",
    "mpo_df['Obsolete'] = mpo_df['MPO_Name'].apply(lambda x: check_obsolete(x))\n",
    "mpo_df = mpo_df[mpo_df['Obsolete'] == False].reset_index(drop=True)\n",
    "del mpo_df['Obsolete']\n",
    "\n",
    "print(len(mpo_df))\n",
    "mpo_df.head()"
   ]
  },
  {
   "attachments": {},
   "cell_type": "markdown",
   "metadata": {},
   "source": [
    "### HPO\n",
    "\n",
    "https://hpo.jax.org/app/data/ontology\n",
    "\n",
    "Download the json file and put it in data folder"
   ]
  },
  {
   "cell_type": "code",
   "execution_count": 8,
   "metadata": {},
   "outputs": [
    {
     "name": "stderr",
     "output_type": "stream",
     "text": [
      "100%|██████████| 17513/17513 [00:00<00:00, 713812.21it/s]\n",
      "100%|██████████| 17513/17513 [00:00<00:00, 463320.59it/s]"
     ]
    },
    {
     "name": "stdout",
     "output_type": "stream",
     "text": [
      "17513\n"
     ]
    },
    {
     "name": "stderr",
     "output_type": "stream",
     "text": [
      "\n"
     ]
    },
    {
     "data": {
      "text/html": [
       "<div>\n",
       "<style scoped>\n",
       "    .dataframe tbody tr th:only-of-type {\n",
       "        vertical-align: middle;\n",
       "    }\n",
       "\n",
       "    .dataframe tbody tr th {\n",
       "        vertical-align: top;\n",
       "    }\n",
       "\n",
       "    .dataframe thead th {\n",
       "        text-align: right;\n",
       "    }\n",
       "</style>\n",
       "<table border=\"1\" class=\"dataframe\">\n",
       "  <thead>\n",
       "    <tr style=\"text-align: right;\">\n",
       "      <th></th>\n",
       "      <th>HPO_ID</th>\n",
       "      <th>HPO_Name</th>\n",
       "      <th>HPO_Definition</th>\n",
       "      <th>HPO_Synonyms</th>\n",
       "    </tr>\n",
       "  </thead>\n",
       "  <tbody>\n",
       "    <tr>\n",
       "      <th>0</th>\n",
       "      <td>HP_0000001</td>\n",
       "      <td>All</td>\n",
       "      <td>None</td>\n",
       "      <td>None</td>\n",
       "    </tr>\n",
       "    <tr>\n",
       "      <th>1</th>\n",
       "      <td>HP_0000002</td>\n",
       "      <td>Abnormality of body height</td>\n",
       "      <td>Deviation from the norm of height with respect...</td>\n",
       "      <td>[Abnormality of body height]</td>\n",
       "    </tr>\n",
       "    <tr>\n",
       "      <th>2</th>\n",
       "      <td>HP_0000003</td>\n",
       "      <td>Multicystic kidney dysplasia</td>\n",
       "      <td>Multicystic dysplasia of the kidney is charact...</td>\n",
       "      <td>[Multicystic dysplastic kidney, Multicystic ki...</td>\n",
       "    </tr>\n",
       "    <tr>\n",
       "      <th>3</th>\n",
       "      <td>HP_0000005</td>\n",
       "      <td>Mode of inheritance</td>\n",
       "      <td>The pattern in which a particular genetic trai...</td>\n",
       "      <td>[Inheritance]</td>\n",
       "    </tr>\n",
       "    <tr>\n",
       "      <th>4</th>\n",
       "      <td>HP_0000006</td>\n",
       "      <td>Autosomal dominant inheritance</td>\n",
       "      <td>A mode of inheritance that is observed for tra...</td>\n",
       "      <td>[Autosomal dominant, monoallelic_autosomal, Au...</td>\n",
       "    </tr>\n",
       "  </tbody>\n",
       "</table>\n",
       "</div>"
      ],
      "text/plain": [
       "       HPO_ID                        HPO_Name  \\\n",
       "0  HP_0000001                             All   \n",
       "1  HP_0000002      Abnormality of body height   \n",
       "2  HP_0000003    Multicystic kidney dysplasia   \n",
       "3  HP_0000005             Mode of inheritance   \n",
       "4  HP_0000006  Autosomal dominant inheritance   \n",
       "\n",
       "                                      HPO_Definition  \\\n",
       "0                                               None   \n",
       "1  Deviation from the norm of height with respect...   \n",
       "2  Multicystic dysplasia of the kidney is charact...   \n",
       "3  The pattern in which a particular genetic trai...   \n",
       "4  A mode of inheritance that is observed for tra...   \n",
       "\n",
       "                                        HPO_Synonyms  \n",
       "0                                               None  \n",
       "1                       [Abnormality of body height]  \n",
       "2  [Multicystic dysplastic kidney, Multicystic ki...  \n",
       "3                                      [Inheritance]  \n",
       "4  [Autosomal dominant, monoallelic_autosomal, Au...  "
      ]
     },
     "execution_count": 8,
     "metadata": {},
     "output_type": "execute_result"
    }
   ],
   "source": [
    "with open('data/hp.json') as f:\n",
    "    hp = json.load(f)\n",
    "    \n",
    "hpo_df = pd.DataFrame(hp['graphs'][0]['nodes'])\n",
    "\n",
    "\n",
    "hpo_df['ref'] = hpo_df['id'].apply(lambda x: x.split('/')[-1])\n",
    "hpo_df['code_type'] = hpo_df['ref'].apply(lambda x: x[:2])\n",
    "hpo_df = hpo_df[(hpo_df['code_type'] == 'HP') & (hpo_df['type'] == 'CLASS')].reset_index(drop=True)\n",
    "\n",
    "def extract_definition(x):\n",
    "    try:\n",
    "        return x['definition']['val']\n",
    "    except:\n",
    "        return None\n",
    "    \n",
    "def extract_synonyms(x):\n",
    "    try:\n",
    "        synonyms = x['synonyms']\n",
    "        synonyms = [s['val'] for s in synonyms]\n",
    "        return synonyms\n",
    "    except:\n",
    "        return None\n",
    "\n",
    "hpo_df['definition'] = hpo_df['meta'].progress_apply(lambda x: extract_definition(x))\n",
    "hpo_df['synonyms'] = hpo_df['meta'].progress_apply(lambda x: extract_synonyms(x))\n",
    "\n",
    "del hpo_df['id']\n",
    "del hpo_df['type']\n",
    "del hpo_df['meta']\n",
    "del hpo_df['code_type']\n",
    "\n",
    "hpo_df.columns = ['HPO_Name', 'HPO_ID', 'HPO_Definition', 'HPO_Synonyms']\n",
    "cols_reorder = ['HPO_ID', 'HPO_Name', 'HPO_Definition', 'HPO_Synonyms']\n",
    "hpo_df = hpo_df[cols_reorder]\n",
    "print(len(hpo_df))\n",
    "hpo_df.head()"
   ]
  },
  {
   "cell_type": "code",
   "execution_count": 9,
   "metadata": {},
   "outputs": [
    {
     "data": {
      "text/html": [
       "<div>\n",
       "<style scoped>\n",
       "    .dataframe tbody tr th:only-of-type {\n",
       "        vertical-align: middle;\n",
       "    }\n",
       "\n",
       "    .dataframe tbody tr th {\n",
       "        vertical-align: top;\n",
       "    }\n",
       "\n",
       "    .dataframe thead th {\n",
       "        text-align: right;\n",
       "    }\n",
       "</style>\n",
       "<table border=\"1\" class=\"dataframe\">\n",
       "  <thead>\n",
       "    <tr style=\"text-align: right;\">\n",
       "      <th></th>\n",
       "      <th>HPO_ID</th>\n",
       "      <th>HPO_Name</th>\n",
       "      <th>HPO_Definition</th>\n",
       "      <th>HPO_Synonyms</th>\n",
       "    </tr>\n",
       "  </thead>\n",
       "  <tbody>\n",
       "    <tr>\n",
       "      <th>0</th>\n",
       "      <td>HP_0000001</td>\n",
       "      <td>all</td>\n",
       "      <td>None</td>\n",
       "      <td>None</td>\n",
       "    </tr>\n",
       "    <tr>\n",
       "      <th>1</th>\n",
       "      <td>HP_0000002</td>\n",
       "      <td>abnormality of body height</td>\n",
       "      <td>Deviation from the norm of height with respect...</td>\n",
       "      <td>[abnormality of body height]</td>\n",
       "    </tr>\n",
       "    <tr>\n",
       "      <th>2</th>\n",
       "      <td>HP_0000003</td>\n",
       "      <td>multicystic kidney dysplasia</td>\n",
       "      <td>Multicystic dysplasia of the kidney is charact...</td>\n",
       "      <td>[multicystic dysplastic kidney, multicystic ki...</td>\n",
       "    </tr>\n",
       "    <tr>\n",
       "      <th>3</th>\n",
       "      <td>HP_0000005</td>\n",
       "      <td>mode of inheritance</td>\n",
       "      <td>The pattern in which a particular genetic trai...</td>\n",
       "      <td>[inheritance]</td>\n",
       "    </tr>\n",
       "    <tr>\n",
       "      <th>4</th>\n",
       "      <td>HP_0000006</td>\n",
       "      <td>autosomal dominant inheritance</td>\n",
       "      <td>A mode of inheritance that is observed for tra...</td>\n",
       "      <td>[autosomal dominant, monoallelic_autosomal, au...</td>\n",
       "    </tr>\n",
       "  </tbody>\n",
       "</table>\n",
       "</div>"
      ],
      "text/plain": [
       "       HPO_ID                        HPO_Name  \\\n",
       "0  HP_0000001                             all   \n",
       "1  HP_0000002      abnormality of body height   \n",
       "2  HP_0000003    multicystic kidney dysplasia   \n",
       "3  HP_0000005             mode of inheritance   \n",
       "4  HP_0000006  autosomal dominant inheritance   \n",
       "\n",
       "                                      HPO_Definition  \\\n",
       "0                                               None   \n",
       "1  Deviation from the norm of height with respect...   \n",
       "2  Multicystic dysplasia of the kidney is charact...   \n",
       "3  The pattern in which a particular genetic trai...   \n",
       "4  A mode of inheritance that is observed for tra...   \n",
       "\n",
       "                                        HPO_Synonyms  \n",
       "0                                               None  \n",
       "1                       [abnormality of body height]  \n",
       "2  [multicystic dysplastic kidney, multicystic ki...  \n",
       "3                                      [inheritance]  \n",
       "4  [autosomal dominant, monoallelic_autosomal, au...  "
      ]
     },
     "execution_count": 9,
     "metadata": {},
     "output_type": "execute_result"
    }
   ],
   "source": [
    "# clean the name\n",
    "hpo_df['HPO_Name'] = hpo_df['HPO_Name'].apply(lambda x: clean_name(x))\n",
    "\n",
    "# clean the synonyms\n",
    "hpo_df['HPO_Synonyms'] = hpo_df['HPO_Synonyms'].apply(lambda x: [clean_name(s) for s in x] if x is not None else None)\n",
    "\n",
    "hpo_df.head()"
   ]
  },
  {
   "attachments": {},
   "cell_type": "markdown",
   "metadata": {},
   "source": [
    "## Find potential matches"
   ]
  },
  {
   "attachments": {},
   "cell_type": "markdown",
   "metadata": {},
   "source": [
    "### Get all the terms"
   ]
  },
  {
   "cell_type": "code",
   "execution_count": 12,
   "metadata": {},
   "outputs": [],
   "source": [
    "# Get all words in the MPO name\n",
    "all_mpo_name = mpo_df['MPO_Name'].tolist()\n",
    "all_mpo_name = [name.split(' ') for name in all_mpo_name]\n",
    "all_mpo_terms = [item for sublist in all_mpo_name for item in sublist]\n",
    "count_mpo_terms = pd.Series(all_mpo_terms).value_counts()\n",
    "dict_mpo_terms = count_mpo_terms.to_dict()\n",
    "unique_mpo_terms = list(dict_mpo_terms.keys())"
   ]
  },
  {
   "cell_type": "code",
   "execution_count": 13,
   "metadata": {},
   "outputs": [],
   "source": [
    "# Get all words in the HPO name\n",
    "all_hpo_name = hpo_df['HPO_Name'].tolist()\n",
    "all_hpo_name = [name.split(' ') for name in all_hpo_name]\n",
    "all_hpo_name = [item for sublist in all_hpo_name for item in sublist]\n",
    "# Get all words in the HPO synonyms\n",
    "all_hpo_synonyms = hpo_df['HPO_Synonyms'].tolist()\n",
    "all_hpo_synonyms = [synonyms_list for synonyms_list in all_hpo_synonyms if synonyms_list is not None]\n",
    "all_hpo_synonyms = [item for sublist in all_hpo_synonyms for item in sublist]\n",
    "# Count\n",
    "all_hpo_terms = all_hpo_name + all_hpo_synonyms\n",
    "count_hpo_terms = pd.Series(all_hpo_terms).value_counts()\n",
    "dict_hpo_terms = count_hpo_terms.to_dict()\n",
    "unique_hpo_terms = list(dict_hpo_terms.keys())"
   ]
  },
  {
   "attachments": {},
   "cell_type": "markdown",
   "metadata": {},
   "source": [
    "### Compute all potential matching\n",
    "\n",
    "Levenshtein distance of 1"
   ]
  },
  {
   "cell_type": "code",
   "execution_count": 11,
   "metadata": {},
   "outputs": [
    {
     "name": "stdout",
     "output_type": "stream",
     "text": [
      "sclerosis\n"
     ]
    },
    {
     "data": {
      "text/plain": [
       "['sclerosis']"
      ]
     },
     "execution_count": 11,
     "metadata": {},
     "output_type": "execute_result"
    }
   ],
   "source": [
    "def get_pot_hpo_term(mpo_term, unique_hpo_terms=unique_hpo_terms, thresh=1):\n",
    "    pot_hpo_terms = []\n",
    "    for hpo_term in unique_hpo_terms:\n",
    "        dist = jellyfish.damerau_levenshtein_distance(mpo_term, hpo_term)\n",
    "        if dist <= thresh:\n",
    "            pot_hpo_terms.append(hpo_term)\n",
    "    return pot_hpo_terms\n"
   ]
  },
  {
   "cell_type": "code",
   "execution_count": 12,
   "metadata": {},
   "outputs": [
    {
     "name": "stderr",
     "output_type": "stream",
     "text": [
      "Processing: 100%|██████████| 4568/4568 [08:42<00:00,  8.74it/s]\n"
     ]
    }
   ],
   "source": [
    "mpo_associated_hpo_terms = {}\n",
    "for mpo_term in tqdm(unique_mpo_terms, desc='Processing'):\n",
    "    pot_hpo_terms = get_pot_hpo_term(mpo_term)\n",
    "    mpo_associated_hpo_terms[mpo_term]= pot_hpo_terms"
   ]
  },
  {
   "attachments": {},
   "cell_type": "markdown",
   "metadata": {},
   "source": [
    "### Get potential HPO"
   ]
  },
  {
   "cell_type": "code",
   "execution_count": 13,
   "metadata": {},
   "outputs": [],
   "source": [
    "def get_all_hpo_terms(x):\n",
    "    name = x['HPO_Name']\n",
    "    synonyms = x['HPO_Synonyms']\n",
    "    all_terms = name.split(' ')\n",
    "    if synonyms is not None:\n",
    "        for syn in synonyms:\n",
    "            all_terms += syn.split(' ')\n",
    "    return all_terms\n",
    "\n",
    "hpo_df['all_hpo_terms'] = hpo_df.apply(lambda x: get_all_hpo_terms(x), axis=1)"
   ]
  },
  {
   "cell_type": "code",
   "execution_count": 14,
   "metadata": {},
   "outputs": [],
   "source": [
    "def get_all_mpo_terms(x):\n",
    "    name = x['MPO_Name']\n",
    "    all_terms = name.split(' ')\n",
    "    return all_terms\n",
    "\n",
    "mpo_df['all_mpo_terms'] = mpo_df.apply(lambda x: get_all_mpo_terms(x), axis=1)"
   ]
  },
  {
   "cell_type": "code",
   "execution_count": null,
   "metadata": {},
   "outputs": [],
   "source": [
    "# Remove classic MPO terms\n",
    "to_rem_mpo_terms = ['abnormal',\n",
    " 'morphology',\n",
    " 'increased',\n",
    " 'decreased',\n",
    " 'cell',\n",
    " 'level',\n",
    " 'absent',\n",
    " 'number',\n",
    " 'circulating',\n",
    " 'gland',\n",
    " 'to',\n",
    " 'incidence',\n",
    " 'of',\n",
    " ]"
   ]
  },
  {
   "cell_type": "code",
   "execution_count": 42,
   "metadata": {},
   "outputs": [
    {
     "name": "stderr",
     "output_type": "stream",
     "text": [
      "Processing: 100%|██████████| 13708/13708 [13:04<00:00, 17.47it/s]\n"
     ]
    }
   ],
   "source": [
    "def check_if_elements_in_list_in_column(x, list_to_check):\n",
    "    for element in x:\n",
    "        if element in list_to_check:\n",
    "            return True\n",
    "    return False\n",
    "\n",
    "def get_pot_hpo(mpo_terms, mpo_associated_hpo_terms=mpo_associated_hpo_terms, hpo_df=hpo_df):\n",
    "    temp_hpo = hpo_df.copy()\n",
    "\n",
    "    pot_hpo_terms = []\n",
    "    for mpo_term in mpo_terms:\n",
    "        if mpo_term not in to_rem_mpo_terms:\n",
    "            pot_hpo_terms += mpo_associated_hpo_terms[mpo_term]\n",
    "    pot_hpo_terms = list(set(pot_hpo_terms))\n",
    "    \n",
    "    temp_hpo['has_element'] = temp_hpo['all_hpo_terms'].apply(lambda x: check_if_elements_in_list_in_column(x, pot_hpo_terms))\n",
    "    pot_hpo_ids = temp_hpo[temp_hpo['has_element']]['HPO_ID'].to_list()\n",
    "    return pot_hpo_ids\n",
    "\n",
    "# mpo_df['pot_hpo'] = mpo_df['all_mpo_terms'].progress_apply(lambda x: get_pot_hpo(x, mpo_associated_hpo_terms, hpo_df))\n",
    "\n",
    "result = parallel_apply(mpo_df['all_mpo_terms'], get_pot_hpo, n_jobs=-1)\n",
    "mpo_df['pot_hpo'] = result"
   ]
  },
  {
   "cell_type": "code",
   "execution_count": 43,
   "metadata": {},
   "outputs": [],
   "source": [
    "# Save as json\n",
    "mpo_df.to_json('results/pot_matches.json', orient='records')"
   ]
  },
  {
   "cell_type": "code",
   "execution_count": 10,
   "metadata": {},
   "outputs": [
    {
     "data": {
      "text/html": [
       "<div>\n",
       "<style scoped>\n",
       "    .dataframe tbody tr th:only-of-type {\n",
       "        vertical-align: middle;\n",
       "    }\n",
       "\n",
       "    .dataframe tbody tr th {\n",
       "        vertical-align: top;\n",
       "    }\n",
       "\n",
       "    .dataframe thead th {\n",
       "        text-align: right;\n",
       "    }\n",
       "</style>\n",
       "<table border=\"1\" class=\"dataframe\">\n",
       "  <thead>\n",
       "    <tr style=\"text-align: right;\">\n",
       "      <th></th>\n",
       "      <th>MPO_ID</th>\n",
       "      <th>MPO_Name</th>\n",
       "      <th>MPO_Definition</th>\n",
       "      <th>all_mpo_terms</th>\n",
       "      <th>pot_hpo</th>\n",
       "    </tr>\n",
       "  </thead>\n",
       "  <tbody>\n",
       "    <tr>\n",
       "      <th>0</th>\n",
       "      <td>MP:0000001</td>\n",
       "      <td>mammalian phenotype</td>\n",
       "      <td>the observable morphological, physiological, b...</td>\n",
       "      <td>[mammalian, phenotype]</td>\n",
       "      <td>[HP_0003812, HP_0025354, HP_0031153, HP_003411...</td>\n",
       "    </tr>\n",
       "    <tr>\n",
       "      <th>1</th>\n",
       "      <td>MP:0000003</td>\n",
       "      <td>abnormal adipose tissue morphology</td>\n",
       "      <td>any structural anomaly of the connective tissu...</td>\n",
       "      <td>[abnormal, adipose, tissue, morphology]</td>\n",
       "      <td>[HP_0000212, HP_0000287, HP_0000291, HP_000029...</td>\n",
       "    </tr>\n",
       "    <tr>\n",
       "      <th>2</th>\n",
       "      <td>MP:0000005</td>\n",
       "      <td>increased brown adipose tissue amount</td>\n",
       "      <td>increased amount of the thermogenic form of ad...</td>\n",
       "      <td>[increased, brown, adipose, tissue, amount]</td>\n",
       "      <td>[HP_0000212, HP_0000287, HP_0000291, HP_000029...</td>\n",
       "    </tr>\n",
       "    <tr>\n",
       "      <th>3</th>\n",
       "      <td>MP:0000008</td>\n",
       "      <td>increased white adipose tissue amount</td>\n",
       "      <td>increased quantity of fat-storing cells/tissue</td>\n",
       "      <td>[increased, white, adipose, tissue, amount]</td>\n",
       "      <td>[HP_0000212, HP_0000287, HP_0000291, HP_000029...</td>\n",
       "    </tr>\n",
       "    <tr>\n",
       "      <th>4</th>\n",
       "      <td>MP:0000010</td>\n",
       "      <td>abnormal abdominal fat pad morphology</td>\n",
       "      <td>any structural anomaly of the encapsulated adi...</td>\n",
       "      <td>[abnormal, abdominal, fat, pad, morphology]</td>\n",
       "      <td>[HP_0000062, HP_0000272, HP_0000287, HP_000029...</td>\n",
       "    </tr>\n",
       "    <tr>\n",
       "      <th>...</th>\n",
       "      <td>...</td>\n",
       "      <td>...</td>\n",
       "      <td>...</td>\n",
       "      <td>...</td>\n",
       "      <td>...</td>\n",
       "    </tr>\n",
       "    <tr>\n",
       "      <th>13703</th>\n",
       "      <td>MP:0031464</td>\n",
       "      <td>abnormal spontaneous fetal mouth movement</td>\n",
       "      <td>any anomaly in the spontaneous neuromuscular m...</td>\n",
       "      <td>[abnormal, spontaneous, fetal, mouth, movement]</td>\n",
       "      <td>[HP_0000153, HP_0000154, HP_0000155, HP_000016...</td>\n",
       "    </tr>\n",
       "    <tr>\n",
       "      <th>13704</th>\n",
       "      <td>MP:3000001</td>\n",
       "      <td>abnormal gastrula morphology</td>\n",
       "      <td>any structural anomaly of the pear shaped tril...</td>\n",
       "      <td>[abnormal, gastrula, morphology]</td>\n",
       "      <td>[]</td>\n",
       "    </tr>\n",
       "    <tr>\n",
       "      <th>13705</th>\n",
       "      <td>MP:3000003</td>\n",
       "      <td>abnormal ebner's gland morphology</td>\n",
       "      <td>any structural anomaly of the serous salivary ...</td>\n",
       "      <td>[abnormal, ebner's, gland, morphology]</td>\n",
       "      <td>[]</td>\n",
       "    </tr>\n",
       "    <tr>\n",
       "      <th>13706</th>\n",
       "      <td>MP:3000004</td>\n",
       "      <td>abnormal nictitating membrane morphology</td>\n",
       "      <td>any structural anomaly of the translucent fold...</td>\n",
       "      <td>[abnormal, nictitating, membrane, morphology]</td>\n",
       "      <td>[HP_0000145, HP_0000433, HP_0000434, HP_000052...</td>\n",
       "    </tr>\n",
       "    <tr>\n",
       "      <th>13707</th>\n",
       "      <td>MP:3000005</td>\n",
       "      <td>abnormal lacrimal sac morphology</td>\n",
       "      <td>any structural anomaly of the upper dilated en...</td>\n",
       "      <td>[abnormal, lacrimal, sac, morphology]</td>\n",
       "      <td>[HP_0000522, HP_0000564, HP_0000579, HP_000062...</td>\n",
       "    </tr>\n",
       "  </tbody>\n",
       "</table>\n",
       "<p>13708 rows × 5 columns</p>\n",
       "</div>"
      ],
      "text/plain": [
       "           MPO_ID                                   MPO_Name  \\\n",
       "0      MP:0000001                        mammalian phenotype   \n",
       "1      MP:0000003         abnormal adipose tissue morphology   \n",
       "2      MP:0000005      increased brown adipose tissue amount   \n",
       "3      MP:0000008      increased white adipose tissue amount   \n",
       "4      MP:0000010      abnormal abdominal fat pad morphology   \n",
       "...           ...                                        ...   \n",
       "13703  MP:0031464  abnormal spontaneous fetal mouth movement   \n",
       "13704  MP:3000001               abnormal gastrula morphology   \n",
       "13705  MP:3000003          abnormal ebner's gland morphology   \n",
       "13706  MP:3000004   abnormal nictitating membrane morphology   \n",
       "13707  MP:3000005           abnormal lacrimal sac morphology   \n",
       "\n",
       "                                          MPO_Definition  \\\n",
       "0      the observable morphological, physiological, b...   \n",
       "1      any structural anomaly of the connective tissu...   \n",
       "2      increased amount of the thermogenic form of ad...   \n",
       "3         increased quantity of fat-storing cells/tissue   \n",
       "4      any structural anomaly of the encapsulated adi...   \n",
       "...                                                  ...   \n",
       "13703  any anomaly in the spontaneous neuromuscular m...   \n",
       "13704  any structural anomaly of the pear shaped tril...   \n",
       "13705  any structural anomaly of the serous salivary ...   \n",
       "13706  any structural anomaly of the translucent fold...   \n",
       "13707  any structural anomaly of the upper dilated en...   \n",
       "\n",
       "                                         all_mpo_terms  \\\n",
       "0                               [mammalian, phenotype]   \n",
       "1              [abnormal, adipose, tissue, morphology]   \n",
       "2          [increased, brown, adipose, tissue, amount]   \n",
       "3          [increased, white, adipose, tissue, amount]   \n",
       "4          [abnormal, abdominal, fat, pad, morphology]   \n",
       "...                                                ...   \n",
       "13703  [abnormal, spontaneous, fetal, mouth, movement]   \n",
       "13704                 [abnormal, gastrula, morphology]   \n",
       "13705           [abnormal, ebner's, gland, morphology]   \n",
       "13706    [abnormal, nictitating, membrane, morphology]   \n",
       "13707            [abnormal, lacrimal, sac, morphology]   \n",
       "\n",
       "                                                 pot_hpo  \n",
       "0      [HP_0003812, HP_0025354, HP_0031153, HP_003411...  \n",
       "1      [HP_0000212, HP_0000287, HP_0000291, HP_000029...  \n",
       "2      [HP_0000212, HP_0000287, HP_0000291, HP_000029...  \n",
       "3      [HP_0000212, HP_0000287, HP_0000291, HP_000029...  \n",
       "4      [HP_0000062, HP_0000272, HP_0000287, HP_000029...  \n",
       "...                                                  ...  \n",
       "13703  [HP_0000153, HP_0000154, HP_0000155, HP_000016...  \n",
       "13704                                                 []  \n",
       "13705                                                 []  \n",
       "13706  [HP_0000145, HP_0000433, HP_0000434, HP_000052...  \n",
       "13707  [HP_0000522, HP_0000564, HP_0000579, HP_000062...  \n",
       "\n",
       "[13708 rows x 5 columns]"
      ]
     },
     "execution_count": 10,
     "metadata": {},
     "output_type": "execute_result"
    }
   ],
   "source": [
    "mpo_df = pd.read_json('results/pot_matches.json', orient='records')\n",
    "mpo_df"
   ]
  },
  {
   "attachments": {},
   "cell_type": "markdown",
   "metadata": {},
   "source": [
    "## Score with potential matches"
   ]
  },
  {
   "cell_type": "code",
   "execution_count": 14,
   "metadata": {},
   "outputs": [],
   "source": [
    "def get_levenstein_score(mpo_name, hpo_name):\n",
    "    score = fuzz.ratio(mpo_name, hpo_name)\n",
    "    return score\n",
    "\n",
    "def get_similarity_score(mpo_name, hpo_name, dict_mpo_name=dict_mpo_terms, dict_hpo_name=dict_hpo_terms):\n",
    "    mpo_words = mpo_name.split(' ')\n",
    "    hpo_words = hpo_name.split(' ')\n",
    "    try:\n",
    "        score_mpo = 0\n",
    "        for word in mpo_words:\n",
    "            if word in dict_mpo_name:\n",
    "                score_mpo += 1/dict_mpo_name[word]\n",
    "        \n",
    "        score_hpo = 0\n",
    "        for word in hpo_words:\n",
    "            if word in dict_hpo_name:\n",
    "                score_hpo += 1/dict_hpo_name[word]\n",
    "        \n",
    "        score_union = score_mpo + score_hpo\n",
    "\n",
    "        score_inter = 0\n",
    "        for word in mpo_words:\n",
    "            if word in hpo_words:\n",
    "                score_inter += 1/dict_mpo_name[word]\n",
    "        for word in hpo_words:\n",
    "            if word in hpo_words:\n",
    "                score_inter += 1/dict_hpo_name[word]\n",
    "        \n",
    "        score = score_inter/score_union\n",
    "\n",
    "        return score\n",
    "    except:\n",
    "        return 0"
   ]
  },
  {
   "cell_type": "code",
   "execution_count": 29,
   "metadata": {},
   "outputs": [
    {
     "data": {
      "text/plain": [
       "[('HP_0009124', 'abnormal adipose tissue morphology', 100, 1.0)]"
      ]
     },
     "execution_count": 29,
     "metadata": {},
     "output_type": "execute_result"
    }
   ],
   "source": [
    "mpo_df['info'] = mpo_df.apply(lambda row: (row['pot_hpo'], row['MPO_Name']), axis=1)\n",
    "\n",
    "def get_hpo_correspondance(mpo_info, hpo_df=hpo_df):\n",
    "    pot_hpo = mpo_info[0]\n",
    "    mpo_name = mpo_info[1]\n",
    "\n",
    "    temp_hpo_df = hpo_df[hpo_df['HPO_ID'].isin(pot_hpo)].copy()\n",
    "    pot_correspondance = []\n",
    "\n",
    "    for hpo_id in temp_hpo_df['HPO_ID']:\n",
    "        hpo = temp_hpo_df[temp_hpo_df['HPO_ID']==hpo_id].iloc[0]\n",
    "        hpo_name = hpo['HPO_Name']\n",
    "        hpo_synonyms = hpo['HPO_Synonyms']\n",
    "        score_levenstein = get_levenstein_score(mpo_name, hpo_name)\n",
    "        score_similarity = get_similarity_score(mpo_name, hpo_name)\n",
    "        if score_levenstein == 100 or (score_levenstein > 95 and score_similarity > 0.85) or (score_levenstein > 80 and score_similarity > 0.92):\n",
    "            pot_correspondance.append((hpo_id, hpo_name, score_levenstein, score_similarity))\n",
    "        elif hpo_synonyms is not None:\n",
    "            for synonym in hpo_synonyms:\n",
    "                score_levenstein = get_levenstein_score(mpo_name, synonym)\n",
    "                score_similarity = get_similarity_score(mpo_name, synonym)\n",
    "                if score_levenstein == 100 or (score_levenstein > 95 and score_similarity > 0.85) or (score_levenstein > 70 and score_similarity > 0.92):\n",
    "                    pot_correspondance.append((hpo_id, hpo_name, score_levenstein, score_similarity))\n",
    "                    break\n",
    "    # get unique correspondance\n",
    "    pot_correspondance = sorted(pot_correspondance, key=lambda x: x[1], reverse=True)\n",
    "\n",
    "    return pot_correspondance\n",
    "\n",
    "get_hpo_correspondance(mpo_df.iloc[1]['info'])"
   ]
  },
  {
   "cell_type": "code",
   "execution_count": 30,
   "metadata": {},
   "outputs": [
    {
     "name": "stderr",
     "output_type": "stream",
     "text": [
      "Processing: 100%|██████████| 13708/13708 [09:11<00:00, 24.86it/s]\n"
     ]
    }
   ],
   "source": [
    "try:\n",
    "    result = parallel_apply(mpo_df['info'], get_hpo_correspondance, n_jobs=-1)\n",
    "    mpo_df['res'] = result\n",
    "except:\n",
    "    mpo_df['res'] = mpo_df['info'].progress_apply(lambda x: get_hpo_correspondance(x), axis=1)"
   ]
  },
  {
   "attachments": {},
   "cell_type": "markdown",
   "metadata": {},
   "source": [
    "## Format output"
   ]
  },
  {
   "attachments": {},
   "cell_type": "markdown",
   "metadata": {},
   "source": [
    "### HPO file"
   ]
  },
  {
   "cell_type": "code",
   "execution_count": 31,
   "metadata": {},
   "outputs": [
    {
     "data": {
      "text/plain": [
       "3850"
      ]
     },
     "execution_count": 31,
     "metadata": {},
     "output_type": "execute_result"
    }
   ],
   "source": [
    "mpo_df['hpo_correspondance_id'] = mpo_df['res'].apply(lambda x: [y[0] for y in x])\n",
    "mpo_df['hpo_correspondance_name'] = mpo_df['res'].apply(lambda x: [y[1] for y in x])\n",
    "len(mpo_df[mpo_df['hpo_correspondance_id'].apply(lambda x: len(x)) > 0])"
   ]
  },
  {
   "cell_type": "code",
   "execution_count": 34,
   "metadata": {},
   "outputs": [
    {
     "data": {
      "text/html": [
       "<div>\n",
       "<style scoped>\n",
       "    .dataframe tbody tr th:only-of-type {\n",
       "        vertical-align: middle;\n",
       "    }\n",
       "\n",
       "    .dataframe tbody tr th {\n",
       "        vertical-align: top;\n",
       "    }\n",
       "\n",
       "    .dataframe thead th {\n",
       "        text-align: right;\n",
       "    }\n",
       "</style>\n",
       "<table border=\"1\" class=\"dataframe\">\n",
       "  <thead>\n",
       "    <tr style=\"text-align: right;\">\n",
       "      <th></th>\n",
       "      <th>MPO_ID</th>\n",
       "      <th>MPO_Name</th>\n",
       "      <th>MPO_Definition</th>\n",
       "      <th>all_mpo_terms</th>\n",
       "      <th>pot_hpo</th>\n",
       "      <th>info</th>\n",
       "      <th>res</th>\n",
       "      <th>hpo_correspondance_id</th>\n",
       "      <th>hpo_correspondance_name</th>\n",
       "    </tr>\n",
       "  </thead>\n",
       "  <tbody>\n",
       "    <tr>\n",
       "      <th>0</th>\n",
       "      <td>MP:0000003</td>\n",
       "      <td>abnormal adipose tissue morphology</td>\n",
       "      <td>any structural anomaly of the connective tissu...</td>\n",
       "      <td>[abnormal, adipose, tissue, morphology]</td>\n",
       "      <td>[HP_0000212, HP_0000287, HP_0000291, HP_000029...</td>\n",
       "      <td>([HP_0000212, HP_0000287, HP_0000291, HP_00002...</td>\n",
       "      <td>[(HP_0009124, abnormal adipose tissue morpholo...</td>\n",
       "      <td>[HP_0009124]</td>\n",
       "      <td>[abnormal adipose tissue morphology]</td>\n",
       "    </tr>\n",
       "    <tr>\n",
       "      <th>1</th>\n",
       "      <td>MP:0000013</td>\n",
       "      <td>abnormal adipose tissue distribution</td>\n",
       "      <td>alterations in the normal placement of body fat</td>\n",
       "      <td>[abnormal, adipose, tissue, distribution]</td>\n",
       "      <td>[HP_0000212, HP_0000287, HP_0000291, HP_000029...</td>\n",
       "      <td>([HP_0000212, HP_0000287, HP_0000291, HP_00002...</td>\n",
       "      <td>[(HP_0007552, abnormal subcutaneous fat tissue...</td>\n",
       "      <td>[HP_0007552]</td>\n",
       "      <td>[abnormal subcutaneous fat tissue distribution]</td>\n",
       "    </tr>\n",
       "    <tr>\n",
       "      <th>2</th>\n",
       "      <td>MP:0000015</td>\n",
       "      <td>abnormal ear pigmentation</td>\n",
       "      <td>anomaly in the coloration of the skin of the o...</td>\n",
       "      <td>[abnormal, ear, pigmentation]</td>\n",
       "      <td>[HP_0000356, HP_0000357, HP_0000358, HP_000035...</td>\n",
       "      <td>([HP_0000356, HP_0000357, HP_0000358, HP_00003...</td>\n",
       "      <td>[(HP_0001106, periorbital hyperpigmentation, 7...</td>\n",
       "      <td>[HP_0001106, HP_0030790]</td>\n",
       "      <td>[periorbital hyperpigmentation, abnormal cerum...</td>\n",
       "    </tr>\n",
       "    <tr>\n",
       "      <th>3</th>\n",
       "      <td>MP:0000017</td>\n",
       "      <td>big ears</td>\n",
       "      <td>outer ears of a greater than normal size</td>\n",
       "      <td>[big, ears]</td>\n",
       "      <td>[HP_0000256, HP_0000293, HP_0000303, HP_000035...</td>\n",
       "      <td>([HP_0000256, HP_0000293, HP_0000303, HP_00003...</td>\n",
       "      <td>[(HP_0000256, macrocephaly, 75, 0.960297766749...</td>\n",
       "      <td>[HP_0000256]</td>\n",
       "      <td>[macrocephaly]</td>\n",
       "    </tr>\n",
       "    <tr>\n",
       "      <th>4</th>\n",
       "      <td>MP:0000018</td>\n",
       "      <td>small ears</td>\n",
       "      <td>outer ears of a smaller than normal size</td>\n",
       "      <td>[small, ears]</td>\n",
       "      <td>[HP_0000013, HP_0000046, HP_0000050, HP_000005...</td>\n",
       "      <td>([HP_0000013, HP_0000046, HP_0000050, HP_00000...</td>\n",
       "      <td>[(HP_0000385, small earlobe, 83, 0.92393332069...</td>\n",
       "      <td>[HP_0000385, HP_0008551]</td>\n",
       "      <td>[small earlobe, microtia]</td>\n",
       "    </tr>\n",
       "  </tbody>\n",
       "</table>\n",
       "</div>"
      ],
      "text/plain": [
       "       MPO_ID                              MPO_Name  \\\n",
       "0  MP:0000003    abnormal adipose tissue morphology   \n",
       "1  MP:0000013  abnormal adipose tissue distribution   \n",
       "2  MP:0000015             abnormal ear pigmentation   \n",
       "3  MP:0000017                              big ears   \n",
       "4  MP:0000018                            small ears   \n",
       "\n",
       "                                      MPO_Definition  \\\n",
       "0  any structural anomaly of the connective tissu...   \n",
       "1    alterations in the normal placement of body fat   \n",
       "2  anomaly in the coloration of the skin of the o...   \n",
       "3           outer ears of a greater than normal size   \n",
       "4           outer ears of a smaller than normal size   \n",
       "\n",
       "                               all_mpo_terms  \\\n",
       "0    [abnormal, adipose, tissue, morphology]   \n",
       "1  [abnormal, adipose, tissue, distribution]   \n",
       "2              [abnormal, ear, pigmentation]   \n",
       "3                                [big, ears]   \n",
       "4                              [small, ears]   \n",
       "\n",
       "                                             pot_hpo  \\\n",
       "0  [HP_0000212, HP_0000287, HP_0000291, HP_000029...   \n",
       "1  [HP_0000212, HP_0000287, HP_0000291, HP_000029...   \n",
       "2  [HP_0000356, HP_0000357, HP_0000358, HP_000035...   \n",
       "3  [HP_0000256, HP_0000293, HP_0000303, HP_000035...   \n",
       "4  [HP_0000013, HP_0000046, HP_0000050, HP_000005...   \n",
       "\n",
       "                                                info  \\\n",
       "0  ([HP_0000212, HP_0000287, HP_0000291, HP_00002...   \n",
       "1  ([HP_0000212, HP_0000287, HP_0000291, HP_00002...   \n",
       "2  ([HP_0000356, HP_0000357, HP_0000358, HP_00003...   \n",
       "3  ([HP_0000256, HP_0000293, HP_0000303, HP_00003...   \n",
       "4  ([HP_0000013, HP_0000046, HP_0000050, HP_00000...   \n",
       "\n",
       "                                                 res  \\\n",
       "0  [(HP_0009124, abnormal adipose tissue morpholo...   \n",
       "1  [(HP_0007552, abnormal subcutaneous fat tissue...   \n",
       "2  [(HP_0001106, periorbital hyperpigmentation, 7...   \n",
       "3  [(HP_0000256, macrocephaly, 75, 0.960297766749...   \n",
       "4  [(HP_0000385, small earlobe, 83, 0.92393332069...   \n",
       "\n",
       "      hpo_correspondance_id                            hpo_correspondance_name  \n",
       "0              [HP_0009124]               [abnormal adipose tissue morphology]  \n",
       "1              [HP_0007552]    [abnormal subcutaneous fat tissue distribution]  \n",
       "2  [HP_0001106, HP_0030790]  [periorbital hyperpigmentation, abnormal cerum...  \n",
       "3              [HP_0000256]                                     [macrocephaly]  \n",
       "4  [HP_0000385, HP_0008551]                          [small earlobe, microtia]  "
      ]
     },
     "execution_count": 34,
     "metadata": {},
     "output_type": "execute_result"
    }
   ],
   "source": [
    "mpo_df_match = mpo_df[mpo_df['hpo_correspondance_id'].apply(lambda x: len(x)) > 0].reset_index(drop=True).copy()\n",
    "mpo_df_match.head()"
   ]
  },
  {
   "cell_type": "code",
   "execution_count": 58,
   "metadata": {},
   "outputs": [],
   "source": [
    "mpo_hpo_dict = mpo_df_match[['MPO_ID', \"hpo_correspondance_id\"]].set_index('MPO_ID').to_dict()['hpo_correspondance_id']"
   ]
  },
  {
   "cell_type": "code",
   "execution_count": 51,
   "metadata": {},
   "outputs": [],
   "source": [
    "all_hpo = hpo_df['HPO_ID'].to_list()\n",
    "hpo_mpo_dict = {}\n",
    "for hpo in all_hpo:\n",
    "    hpo_mpo_dict[hpo] = []\n",
    "for mpo in mpo_hpo_dict:\n",
    "    for hpo in mpo_hpo_dict[mpo]:\n",
    "        hpo_mpo_dict[hpo].append(mpo)"
   ]
  },
  {
   "cell_type": "code",
   "execution_count": 56,
   "metadata": {},
   "outputs": [
    {
     "name": "stderr",
     "output_type": "stream",
     "text": [
      "100%|██████████| 17513/17513 [00:06<00:00, 2572.28it/s]\n"
     ]
    }
   ],
   "source": [
    "hpo_df['mpo_correspondance_id'] = hpo_df['HPO_ID'].apply(lambda x: hpo_mpo_dict[x])\n",
    "hpo_df['mpo_correspondance_name'] = hpo_df['mpo_correspondance_id'].progress_apply(lambda x: [mpo_df[mpo_df['MPO_ID']==mpo]['MPO_Name'].iloc[0] for mpo in x])"
   ]
  },
  {
   "attachments": {},
   "cell_type": "markdown",
   "metadata": {},
   "source": [
    "### Final table"
   ]
  },
  {
   "cell_type": "code",
   "execution_count": 64,
   "metadata": {},
   "outputs": [],
   "source": [
    "result_list1 = [(key, value) for key in mpo_hpo_dict for value in mpo_hpo_dict[key]]\n",
    "result_list2 = [(key, value) for key in hpo_mpo_dict for value in hpo_mpo_dict[key]]\n",
    "assert len(result_list1) == len(result_list2)"
   ]
  },
  {
   "cell_type": "code",
   "execution_count": 66,
   "metadata": {},
   "outputs": [
    {
     "data": {
      "text/html": [
       "<div>\n",
       "<style scoped>\n",
       "    .dataframe tbody tr th:only-of-type {\n",
       "        vertical-align: middle;\n",
       "    }\n",
       "\n",
       "    .dataframe tbody tr th {\n",
       "        vertical-align: top;\n",
       "    }\n",
       "\n",
       "    .dataframe thead th {\n",
       "        text-align: right;\n",
       "    }\n",
       "</style>\n",
       "<table border=\"1\" class=\"dataframe\">\n",
       "  <thead>\n",
       "    <tr style=\"text-align: right;\">\n",
       "      <th></th>\n",
       "      <th>MPO_ID</th>\n",
       "      <th>HPO_ID</th>\n",
       "      <th>MPO_Name</th>\n",
       "      <th>HPO_Name</th>\n",
       "      <th>HPO_Synonyms</th>\n",
       "    </tr>\n",
       "  </thead>\n",
       "  <tbody>\n",
       "    <tr>\n",
       "      <th>0</th>\n",
       "      <td>MP:0000003</td>\n",
       "      <td>HP_0009124</td>\n",
       "      <td>abnormal adipose tissue morphology</td>\n",
       "      <td>abnormal adipose tissue morphology</td>\n",
       "      <td>[abnormality of adipose tissue, abnormality of...</td>\n",
       "    </tr>\n",
       "    <tr>\n",
       "      <th>1</th>\n",
       "      <td>MP:0000013</td>\n",
       "      <td>HP_0007552</td>\n",
       "      <td>abnormal adipose tissue distribution</td>\n",
       "      <td>abnormal subcutaneous fat tissue distribution</td>\n",
       "      <td>[abnormal fat tissue distribution below the skin]</td>\n",
       "    </tr>\n",
       "    <tr>\n",
       "      <th>2</th>\n",
       "      <td>MP:0000015</td>\n",
       "      <td>HP_0001106</td>\n",
       "      <td>abnormal ear pigmentation</td>\n",
       "      <td>periorbital hyperpigmentation</td>\n",
       "      <td>[dark circles around the eyes, dark circles un...</td>\n",
       "    </tr>\n",
       "    <tr>\n",
       "      <th>3</th>\n",
       "      <td>MP:0000015</td>\n",
       "      <td>HP_0030790</td>\n",
       "      <td>abnormal ear pigmentation</td>\n",
       "      <td>abnormal cerumen color</td>\n",
       "      <td>[abnormal cerumen colour, abnormal cerumen pig...</td>\n",
       "    </tr>\n",
       "    <tr>\n",
       "      <th>4</th>\n",
       "      <td>MP:0000017</td>\n",
       "      <td>HP_0000256</td>\n",
       "      <td>big ears</td>\n",
       "      <td>macrocephaly</td>\n",
       "      <td>[big calvaria, big cranium, big head, big skul...</td>\n",
       "    </tr>\n",
       "  </tbody>\n",
       "</table>\n",
       "</div>"
      ],
      "text/plain": [
       "       MPO_ID      HPO_ID                              MPO_Name  \\\n",
       "0  MP:0000003  HP_0009124    abnormal adipose tissue morphology   \n",
       "1  MP:0000013  HP_0007552  abnormal adipose tissue distribution   \n",
       "2  MP:0000015  HP_0001106             abnormal ear pigmentation   \n",
       "3  MP:0000015  HP_0030790             abnormal ear pigmentation   \n",
       "4  MP:0000017  HP_0000256                              big ears   \n",
       "\n",
       "                                        HPO_Name  \\\n",
       "0             abnormal adipose tissue morphology   \n",
       "1  abnormal subcutaneous fat tissue distribution   \n",
       "2                  periorbital hyperpigmentation   \n",
       "3                         abnormal cerumen color   \n",
       "4                                   macrocephaly   \n",
       "\n",
       "                                        HPO_Synonyms  \n",
       "0  [abnormality of adipose tissue, abnormality of...  \n",
       "1  [abnormal fat tissue distribution below the skin]  \n",
       "2  [dark circles around the eyes, dark circles un...  \n",
       "3  [abnormal cerumen colour, abnormal cerumen pig...  \n",
       "4  [big calvaria, big cranium, big head, big skul...  "
      ]
     },
     "execution_count": 66,
     "metadata": {},
     "output_type": "execute_result"
    }
   ],
   "source": [
    "final_table = pd.DataFrame(result_list1, columns=['MPO_ID', 'HPO_ID'])\n",
    "final_table = final_table.merge(mpo_df[['MPO_ID', 'MPO_Name']], on='MPO_ID', how='left').merge(hpo_df[['HPO_ID', 'HPO_Name', 'HPO_Synonyms']], on='HPO_ID', how='left')\n",
    "final_table.head()"
   ]
  },
  {
   "attachments": {},
   "cell_type": "markdown",
   "metadata": {},
   "source": [
    "## Save file"
   ]
  },
  {
   "cell_type": "code",
   "execution_count": 68,
   "metadata": {},
   "outputs": [],
   "source": [
    "# Save as excel\n",
    "# Save hpo_df and mpo_df to excel\n",
    "with pd.ExcelWriter('results/hpo_mpo_correspondance.xlsx') as writer:\n",
    "    hpo_df.to_excel(writer, sheet_name='hpo')\n",
    "    mpo_df.to_excel(writer, sheet_name='mpo')\n",
    "    final_table.to_excel(writer, sheet_name='final_table')"
   ]
  },
  {
   "cell_type": "code",
   "execution_count": null,
   "metadata": {},
   "outputs": [],
   "source": []
  }
 ],
 "metadata": {
  "kernelspec": {
   "display_name": "venv_sandbox",
   "language": "python",
   "name": "python3"
  },
  "language_info": {
   "codemirror_mode": {
    "name": "ipython",
    "version": 3
   },
   "file_extension": ".py",
   "mimetype": "text/x-python",
   "name": "python",
   "nbconvert_exporter": "python",
   "pygments_lexer": "ipython3",
   "version": "3.10.0"
  },
  "orig_nbformat": 4
 },
 "nbformat": 4,
 "nbformat_minor": 2
}
